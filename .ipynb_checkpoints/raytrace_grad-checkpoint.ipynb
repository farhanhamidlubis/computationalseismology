{
 "cells": [
  {
   "cell_type": "code",
   "execution_count": 213,
   "metadata": {},
   "outputs": [],
   "source": [
    "import numpy as np\n",
    "import matplotlib.pyplot as plt\n",
    "np.set_printoptions(suppress=True)"
   ]
  },
  {
   "cell_type": "markdown",
   "metadata": {},
   "source": [
    "# Input Parameters"
   ]
  },
  {
   "cell_type": "code",
   "execution_count": 214,
   "metadata": {},
   "outputs": [
    {
     "name": "stdout",
     "output_type": "stream",
     "text": [
      "(1, 11)\n"
     ]
    }
   ],
   "source": [
    "rays = 1\n",
    "dz0 = np.array([10])\n",
    "velo_up = np.array([2000])\n",
    "velo_low = np.array([2200])\n",
    "b = (velo_up - velo_low) / dz0\n",
    "dz = np.array([np.linspace(0, dz0[0], dz0[0]+1)])\n",
    "print(np.shape(dz))\n",
    "velo = np.array([np.zeros(np.shape(dz)[1])])\n",
    "for i in range(np.shape(dz)[1]):\n",
    "    velo[0, i] = velo_low + b * dz[0, i]\n",
    "layers = np.shape(velo)[1]"
   ]
  },
  {
   "cell_type": "code",
   "execution_count": 215,
   "metadata": {},
   "outputs": [],
   "source": [
    "theta = np.empty(shape = [0, rays])\n",
    "for i in range(1, rays+1):\n",
    "    t = i * 10    \n",
    "    theta = np.array([np.append(theta, t)])"
   ]
  },
  {
   "cell_type": "markdown",
   "metadata": {},
   "source": [
    "# Ray Parameter"
   ]
  },
  {
   "cell_type": "code",
   "execution_count": 216,
   "metadata": {},
   "outputs": [],
   "source": [
    "p = np.empty(shape = [0, rays])\n",
    "for i in range(rays):\n",
    "    x = np.sin(np.deg2rad(theta[0, i])) / velo_low[0]\n",
    "    p = np.array([np.append(p, x)])\n",
    "# print(\"p = \\n\", p)\n",
    "\n",
    "pz = np.empty(shape = [layers, rays])\n",
    "for j in range(rays):\n",
    "    for i in range(layers):\n",
    "        pz[i, j] = np.sqrt((1/(velo[0, i]))**(2) - (p[0, j])**2)\n",
    "# print(\"pz = \\n\", pz)"
   ]
  },
  {
   "cell_type": "markdown",
   "metadata": {},
   "source": [
    "# Lateral Displacement"
   ]
  },
  {
   "cell_type": "code",
   "execution_count": 217,
   "metadata": {},
   "outputs": [
    {
     "name": "stdout",
     "output_type": "stream",
     "text": [
      "[[9.06370986]\n",
      " [7.4650447 ]\n",
      " [6.01148467]\n",
      " [4.70629991]\n",
      " [3.55276428]\n",
      " [2.55415539]\n",
      " [1.71375469]\n",
      " [1.03484752]\n",
      " [0.52072315]\n",
      " [0.17467487]\n",
      " [0.        ]]\n",
      "[[ 0.  1.  2.  3.  4.  5.  6.  7.  8.  9. 10.]]\n"
     ]
    }
   ],
   "source": [
    "dx = np.empty(shape = [layers, rays])\n",
    "for j in range(rays):\n",
    "    for i in range(layers):\n",
    "        dx[i, j] = p[0, j] * dz[0, i]/ pz[i, j]\n",
    "\n",
    "# print(dx)\n",
    "# a = np.array([np.zeros(rays)])\n",
    "# dx = np.append(a, dx, axis = 0)\n",
    "\n",
    "for j in range(rays):\n",
    "    for i in range(1, layers):\n",
    "        dx[i, j] = dx[i, j] + dx[i - 1, j]\n",
    "# print(dx)\n",
    "\n",
    "# total_depth = np.sum(dz0)\n",
    "# # print(total_depth)\n",
    "# depth = np.array([np.zeros(np.shape(dz)[1])])\n",
    "# print(np.shape(depth))\n",
    "# for i in range(1, np.shape(dz)[1]):\n",
    "#     depth[0, 0] = total_depth\n",
    "#     depth[0, i] = total_depth - (np.sum(dz[0:i + 1])) \n",
    "dx = np.flip(dx, 0)\n",
    "print(dx)\n",
    "print(dz)"
   ]
  },
  {
   "cell_type": "markdown",
   "metadata": {},
   "source": [
    "# Plotting"
   ]
  },
  {
   "cell_type": "code",
   "execution_count": 218,
   "metadata": {},
   "outputs": [
    {
     "data": {
      "image/png": "[encoded data removed]",
      "text/plain": [
       "<Figure size 432x288 with 1 Axes>"
      ]
     },
     "metadata": {
      "needs_background": "light"
     },
     "output_type": "display_data"
    }
   ],
   "source": [
    "fig, ax = plt.subplots()\n",
    "ax.plot(dx[:, 0], depth[0, :])\n",
    "ax.set_title(\"Ray Tracing\")\n",
    "plt.gca().invert_yaxis()\n",
    "plt.show()"
   ]
  }
 ],
 "metadata": {
  "kernelspec": {
   "display_name": "Python 3",
   "language": "python",
   "name": "python3"
  },
  "language_info": {
   "codemirror_mode": {
    "name": "ipython",
    "version": 3
   },
   "file_extension": ".py",
   "mimetype": "text/x-python",
   "name": "python",
   "nbconvert_exporter": "python",
   "pygments_lexer": "ipython3",
   "version": "3.8.3"
  }
 },
 "nbformat": 4,
 "nbformat_minor": 4
}
