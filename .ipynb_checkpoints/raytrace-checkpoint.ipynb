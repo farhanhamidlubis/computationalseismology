{
 "cells": [
  {
   "cell_type": "code",
   "execution_count": 2,
   "metadata": {},
   "outputs": [],
   "source": [
    "import numpy as np\n",
    "import matplotlib.pyplot as plt\n",
    "np.set_printoptions(suppress=True)"
   ]
  },
  {
   "cell_type": "markdown",
   "metadata": {},
   "source": [
    "# Input Parameters"
   ]
  },
  {
   "cell_type": "code",
   "execution_count": 3,
   "metadata": {},
   "outputs": [],
   "source": [
    "rays    = 2\n",
    "velo    = np.array([1800,1500])\n",
    "dz      = np.array([900, 600])\n",
    "layers  = len(velo)\n",
    "wave    = 1"
   ]
  },
  {
   "cell_type": "code",
   "execution_count": 5,
   "metadata": {},
   "outputs": [],
   "source": [
    "theta = np.empty(shape = [0, rays])\n",
    "for i in range(1, rays+1):\n",
    "    t = i * 10\n",
    "    theta = np.array([np.append(theta, t)])\n",
    "# print(theta)"
   ]
  },
  {
   "cell_type": "markdown",
   "metadata": {},
   "source": [
    "# Ray Parameter"
   ]
  },
  {
   "cell_type": "code",
   "execution_count": 35,
   "metadata": {},
   "outputs": [
    {
     "name": "stdout",
     "output_type": "stream",
     "text": [
      "p = \n",
      " [[0.00009647 0.00022801]]\n",
      "pz = \n",
      " [[0.00054712 0.00050661]\n",
      " [0.00065965 0.00062646]]\n"
     ]
    }
   ],
   "source": [
    "p = np.empty(shape = [0, rays])\n",
    "for i in range(rays):\n",
    "    x = np.sin(np.deg2rad(theta[0, i])) / velo[i]\n",
    "    p = np.array([np.append(p, x)])\n",
    "print(\"p = \\n\", p)\n",
    "\n",
    "pz = np.empty(shape = [layers, rays])\n",
    "for j in range(rays):\n",
    "    for i in range(layers):\n",
    "        pz[i, j] = np.sqrt((1/(velo[i]))**(2) - (p[0, j])**2)\n",
    "print(\"pz = \\n\", pz)"
   ]
  },
  {
   "cell_type": "markdown",
   "metadata": {},
   "source": [
    "# Lateral Displacement"
   ]
  },
  {
   "cell_type": "code",
   "execution_count": 36,
   "metadata": {},
   "outputs": [
    {
     "name": "stdout",
     "output_type": "stream",
     "text": [
      "[[158.69428264 405.07061017]\n",
      " [ 87.74767021 218.38214056]]\n"
     ]
    }
   ],
   "source": [
    "dx = np.empty(shape = [layers, rays])\n",
    "for j in range(rays):\n",
    "    for i in range(layers):\n",
    "        dx[i, j] = p[0, j] * dz[i]/ pz[i, j]\n",
    "print(dx)"
   ]
  }
 ],
 "metadata": {
  "kernelspec": {
   "display_name": "Python 3",
   "language": "python",
   "name": "python3"
  },
  "language_info": {
   "codemirror_mode": {
    "name": "ipython",
    "version": 3
   },
   "file_extension": ".py",
   "mimetype": "text/x-python",
   "name": "python",
   "nbconvert_exporter": "python",
   "pygments_lexer": "ipython3",
   "version": "3.8.3"
  }
 },
 "nbformat": 4,
 "nbformat_minor": 4
}
