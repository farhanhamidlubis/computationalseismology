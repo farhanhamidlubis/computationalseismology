{
 "cells": [
  {
   "cell_type": "code",
   "execution_count": 110,
   "metadata": {},
   "outputs": [],
   "source": [
    "import numpy as np\n",
    "import matplotlib.pyplot as plt\n",
    "np.set_printoptions(suppress=True)"
   ]
  },
  {
   "cell_type": "markdown",
   "metadata": {},
   "source": [
    "# Input Parameters"
   ]
  },
  {
   "cell_type": "code",
   "execution_count": 111,
   "metadata": {},
   "outputs": [],
   "source": [
    "rays    = 3\n",
    "velo    = np.array([1800,1500])\n",
    "dz      = np.array([900, 600])\n",
    "layers  = len(velo)"
   ]
  },
  {
   "cell_type": "code",
   "execution_count": 112,
   "metadata": {},
   "outputs": [
    {
     "name": "stdout",
     "output_type": "stream",
     "text": [
      "[[10. 20. 30.]]\n"
     ]
    }
   ],
   "source": [
    "theta = np.empty(shape = [0, rays])\n",
    "for i in range(1, rays+1):\n",
    "    t = i * 10\n",
    "    theta = np.array([np.append(theta, t)])\n",
    "print(theta)"
   ]
  },
  {
   "cell_type": "markdown",
   "metadata": {},
   "source": [
    "# Ray Parameter"
   ]
  },
  {
   "cell_type": "code",
   "execution_count": 113,
   "metadata": {},
   "outputs": [
    {
     "name": "stdout",
     "output_type": "stream",
     "text": [
      "p = \n",
      " [[0.00009647 0.00019001 0.00027778 0.00011577 0.00022801 0.00033333]]\n",
      "pz = \n",
      " [[0.00054712 0.00052205 0.00048113]\n",
      " [0.00065965 0.00063902 0.00060604]]\n"
     ]
    }
   ],
   "source": [
    "p = np.empty(shape = [0, rays])\n",
    "for j in range(layers):\n",
    "    for i in range(rays):\n",
    "        x = np.sin(np.deg2rad(theta[0, i])) / velo[j]\n",
    "        p = np.array([np.append(p, x)])\n",
    "print(\"p = \\n\", p)\n",
    "\n",
    "pz = np.empty(shape = [layers, rays])\n",
    "for j in range(rays):\n",
    "    for i in range(layers):\n",
    "        pz[i, j] = np.sqrt((1/(velo[i]))**(2) - (p[0, j])**2)\n",
    "print(\"pz = \\n\", pz)"
   ]
  },
  {
   "cell_type": "markdown",
   "metadata": {},
   "source": [
    "# Lateral Displacement"
   ]
  },
  {
   "cell_type": "code",
   "execution_count": 114,
   "metadata": {},
   "outputs": [
    {
     "name": "stdout",
     "output_type": "stream",
     "text": [
      "[[  0.           0.           0.        ]\n",
      " [158.69428264 327.57321084 519.61524227]\n",
      " [ 87.74767021 178.41007085 275.00954911]]\n",
      "[[  0.           0.           0.        ]\n",
      " [158.69428264 327.57321084 519.61524227]\n",
      " [246.44195285 505.98328169 794.62479138]]\n",
      "[  0 900 600]\n",
      "[[1500.  600.    0.]]\n"
     ]
    }
   ],
   "source": [
    "dx = np.empty(shape = [layers, rays])\n",
    "for j in range(rays):\n",
    "    for i in range(layers):\n",
    "        dx[i, j] = p[0, j] * dz[i]/ pz[i, j]\n",
    "# print(dx)\n",
    "\n",
    "a = np.array([np.zeros(rays)])\n",
    "dx = np.append(a, dx, axis = 0)\n",
    "print(dx)\n",
    "\n",
    "for j in range(rays):\n",
    "    for i in range(1, layers + 1):\n",
    "        dx[i, j] = dx[i, j] + dx[i - 1, j]\n",
    "print(dx)\n",
    "\n",
    "total_depth = np.sum(dz)\n",
    "dz = np.append(0, dz)\n",
    "print(dz)\n",
    "depth = np.empty(shape = [1, len(dz)])\n",
    "for i in range(1, len(dz)):\n",
    "    depth[0, 0] = total_depth\n",
    "    depth[0, i] = total_depth - (dz[i] + dz[i - 1]) \n",
    "print(depth)"
   ]
  },
  {
   "cell_type": "markdown",
   "metadata": {},
   "source": [
    "# Plotting"
   ]
  },
  {
   "cell_type": "code",
   "execution_count": null,
   "metadata": {},
   "outputs": [],
   "source": []
  }
 ],
 "metadata": {
  "kernelspec": {
   "display_name": "Python 3",
   "language": "python",
   "name": "python3"
  },
  "language_info": {
   "codemirror_mode": {
    "name": "ipython",
    "version": 3
   },
   "file_extension": ".py",
   "mimetype": "text/x-python",
   "name": "python",
   "nbconvert_exporter": "python",
   "pygments_lexer": "ipython3",
   "version": "3.8.3"
  }
 },
 "nbformat": 4,
 "nbformat_minor": 4
}
