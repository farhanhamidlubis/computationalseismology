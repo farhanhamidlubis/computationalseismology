{
 "cells": [
  {
   "cell_type": "code",
   "execution_count": 15,
   "metadata": {},
   "outputs": [],
   "source": [
    "import numpy as np\n",
    "import matplotlib.pyplot as plt\n",
    "np.set_printoptions(suppress=True)"
   ]
  },
  {
   "cell_type": "markdown",
   "metadata": {},
   "source": [
    "# Input Parameters"
   ]
  },
  {
   "cell_type": "code",
   "execution_count": 7,
   "metadata": {},
   "outputs": [],
   "source": [
    "rays    = 2\n",
    "velo    = np.array([1800,1500])\n",
    "dz      = np.array([900, 600])\n",
    "layers  = len(velo)"
   ]
  },
  {
   "cell_type": "code",
   "execution_count": 9,
   "metadata": {},
   "outputs": [],
   "source": [
    "theta = np.empty(shape = [0, rays])\n",
    "for i in range(1, rays+1):\n",
    "    t = i * 10\n",
    "    theta = np.array([np.append(theta, t)])"
   ]
  },
  {
   "cell_type": "markdown",
   "metadata": {},
   "source": [
    "# Incident Angle in Layers' Boundary"
   ]
  },
  {
   "cell_type": "code",
   "execution_count": 11,
   "metadata": {},
   "outputs": [],
   "source": [
    "a = np.empty(shape = [0, rays])\n",
    "for i in range(1, layers):\n",
    "    for j in range(1, rays+1):\n",
    "        t = np.rad2deg(np.arcsin((np.sin(np.deg2rad(theta[i - 1, j - 1])) * (velo[i]/velo[i - 1]))))\n",
    "        a = np.array([np.append(a, t)])\n",
    "    theta = np.append(theta, a, axis=0)\n",
    "    a = np.empty(shape = [0, rays])\n",
    "# print(theta)"
   ]
  },
  {
   "cell_type": "markdown",
   "metadata": {},
   "source": [
    "# Ray Parameter"
   ]
  },
  {
   "cell_type": "code",
   "execution_count": 16,
   "metadata": {},
   "outputs": [
    {
     "name": "stdout",
     "output_type": "stream",
     "text": [
      "[[0.00009647 0.00019001]]\n"
     ]
    }
   ],
   "source": [
    "rp = np.empty(shape = [0, rays])\n",
    "for i in range(rays):\n",
    "    a = np.sin(np.deg2rad(theta[0, i])) * (1 / velo[0])\n",
    "    rp = np.array([np.append(rp, a)])\n",
    "# print(rp)"
   ]
  },
  {
   "cell_type": "markdown",
   "metadata": {},
   "source": [
    "# Turning Point"
   ]
  },
  {
   "cell_type": "code",
   "execution_count": null,
   "metadata": {},
   "outputs": [],
   "source": []
  }
 ],
 "metadata": {
  "kernelspec": {
   "display_name": "Python 3",
   "language": "python",
   "name": "python3"
  },
  "language_info": {
   "codemirror_mode": {
    "name": "ipython",
    "version": 3
   },
   "file_extension": ".py",
   "mimetype": "text/x-python",
   "name": "python",
   "nbconvert_exporter": "python",
   "pygments_lexer": "ipython3",
   "version": "3.8.3"
  }
 },
 "nbformat": 4,
 "nbformat_minor": 4
}
